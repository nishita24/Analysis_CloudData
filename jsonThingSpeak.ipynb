{
 "cells": [
  {
   "cell_type": "markdown",
   "metadata": {},
   "source": [
    "# Operations on Cloud Imported Data"
   ]
  },
  {
   "cell_type": "code",
   "execution_count": 1,
   "metadata": {},
   "outputs": [],
   "source": [
    "import urllib.request\n",
    "import pandas as pd\n",
    "import matplotlib.pyplot as plt \n",
    "import json\n",
    "from pandas.io.json import json_normalize  "
   ]
  },
  {
   "cell_type": "code",
   "execution_count": 2,
   "metadata": {},
   "outputs": [],
   "source": [
    "webdata = urllib.request.urlopen(\"https://api.thingspeak.com/channels/812711/feeds.json?api_key=YZCCUFGP6YRGO0BO\")"
   ]
  },
  {
   "cell_type": "code",
   "execution_count": 3,
   "metadata": {},
   "outputs": [
    {
     "data": {
      "text/plain": [
       "http.client.HTTPResponse"
      ]
     },
     "execution_count": 3,
     "metadata": {},
     "output_type": "execute_result"
    }
   ],
   "source": [
    "type(webdata)"
   ]
  },
  {
   "cell_type": "code",
   "execution_count": 16,
   "metadata": {},
   "outputs": [],
   "source": [
    "response= webdata.read()"
   ]
  },
  {
   "cell_type": "code",
   "execution_count": 17,
   "metadata": {},
   "outputs": [],
   "source": [
    "mydata=json.loads(response)"
   ]
  },
  {
   "cell_type": "markdown",
   "metadata": {},
   "source": [
    "The data is written on a file so that it is permanently stored."
   ]
  },
  {
   "cell_type": "code",
   "execution_count": 18,
   "metadata": {},
   "outputs": [],
   "source": [
    "with open('my_data.json', 'w') as f: \n",
    "    json.dump(mydata, f) "
   ]
  },
  {
   "cell_type": "code",
   "execution_count": 19,
   "metadata": {},
   "outputs": [
    {
     "name": "stdout",
     "output_type": "stream",
     "text": [
      "{'channel': {'id': 812711, 'name': 'Monitoring Environment', 'latitude': '0.0', 'longitude': '0.0', 'field1': 'Temperature', 'field2': 'Humidity', 'created_at': '2019-06-29T08:23:42Z', 'updated_at': '2019-06-29T08:23:42Z', 'last_entry_id': 160}, 'feeds': [{'created_at': '2019-07-24T08:25:07Z', 'entry_id': 61, 'field1': '30.00', 'field2': '65.00'}, {'created_at': '2019-07-24T08:25:33Z', 'entry_id': 62, 'field1': '30.00', 'field2': '65.00'}, {'created_at': '2019-07-24T08:25:59Z', 'entry_id': 63, 'field1': '30.00', 'field2': '65.00'}, {'created_at': '2019-07-24T08:26:25Z', 'entry_id': 64, 'field1': '30.00', 'field2': '65.00'}, {'created_at': '2019-07-24T08:26:51Z', 'entry_id': 65, 'field1': '30.00', 'field2': '64.00'}, {'created_at': '2019-07-24T08:27:17Z', 'entry_id': 66, 'field1': '30.00', 'field2': '64.00'}, {'created_at': '2019-07-24T08:27:43Z', 'entry_id': 67, 'field1': '30.00', 'field2': '64.00'}, {'created_at': '2019-07-24T08:28:10Z', 'entry_id': 68, 'field1': '30.00', 'field2': '64.00'}, {'created_at': '2019-07-24T08:28:37Z', 'entry_id': 69, 'field1': '30.00', 'field2': '64.00'}, {'created_at': '2019-07-24T08:29:03Z', 'entry_id': 70, 'field1': '30.00', 'field2': '64.00'}, {'created_at': '2019-07-24T08:29:29Z', 'entry_id': 71, 'field1': '30.00', 'field2': '64.00'}, {'created_at': '2019-07-24T08:29:56Z', 'entry_id': 72, 'field1': '30.00', 'field2': '64.00'}, {'created_at': '2019-07-24T08:30:22Z', 'entry_id': 73, 'field1': '30.00', 'field2': '75.00'}, {'created_at': '2019-07-24T08:30:48Z', 'entry_id': 74, 'field1': '30.00', 'field2': '68.00'}, {'created_at': '2019-07-24T08:31:14Z', 'entry_id': 75, 'field1': '30.00', 'field2': '64.00'}, {'created_at': '2019-07-24T08:31:40Z', 'entry_id': 76, 'field1': '30.00', 'field2': '64.00'}, {'created_at': '2019-07-24T08:32:07Z', 'entry_id': 77, 'field1': '30.00', 'field2': '64.00'}, {'created_at': '2019-07-24T08:32:33Z', 'entry_id': 78, 'field1': '30.00', 'field2': '64.00'}, {'created_at': '2019-07-24T08:33:00Z', 'entry_id': 79, 'field1': '30.00', 'field2': '64.00'}, {'created_at': '2019-07-24T08:33:26Z', 'entry_id': 80, 'field1': '30.00', 'field2': '64.00'}, {'created_at': '2019-07-24T08:33:52Z', 'entry_id': 81, 'field1': '30.00', 'field2': '64.00'}, {'created_at': '2019-07-24T08:34:42Z', 'entry_id': 82, 'field1': '30.00', 'field2': '64.00'}, {'created_at': '2019-07-24T08:35:09Z', 'entry_id': 83, 'field1': '30.00', 'field2': '64.00'}, {'created_at': '2019-07-24T08:35:35Z', 'entry_id': 84, 'field1': '30.00', 'field2': '64.00'}, {'created_at': '2019-07-24T08:36:01Z', 'entry_id': 85, 'field1': '30.00', 'field2': '64.00'}, {'created_at': '2019-07-24T08:36:27Z', 'entry_id': 86, 'field1': '30.00', 'field2': '64.00'}, {'created_at': '2019-07-24T08:36:54Z', 'entry_id': 87, 'field1': '30.00', 'field2': '64.00'}, {'created_at': '2019-07-24T08:37:20Z', 'entry_id': 88, 'field1': '30.00', 'field2': '64.00'}, {'created_at': '2019-07-24T08:37:47Z', 'entry_id': 89, 'field1': '30.00', 'field2': '64.00'}, {'created_at': '2019-07-24T08:38:13Z', 'entry_id': 90, 'field1': '30.00', 'field2': '64.00'}, {'created_at': '2019-07-24T08:38:39Z', 'entry_id': 91, 'field1': '30.00', 'field2': '64.00'}, {'created_at': '2019-07-24T08:39:05Z', 'entry_id': 92, 'field1': '30.00', 'field2': '64.00'}, {'created_at': '2019-07-24T08:39:31Z', 'entry_id': 93, 'field1': '30.00', 'field2': '64.00'}, {'created_at': '2019-07-24T08:39:56Z', 'entry_id': 94, 'field1': '30.00', 'field2': '64.00'}, {'created_at': '2019-07-24T08:40:22Z', 'entry_id': 95, 'field1': '30.00', 'field2': '64.00'}, {'created_at': '2019-07-24T08:40:50Z', 'entry_id': 96, 'field1': '30.00', 'field2': '64.00'}, {'created_at': '2019-07-24T08:41:17Z', 'entry_id': 97, 'field1': '30.00', 'field2': '64.00'}, {'created_at': '2019-07-24T08:41:43Z', 'entry_id': 98, 'field1': '30.00', 'field2': '64.00'}, {'created_at': '2019-07-24T08:42:08Z', 'entry_id': 99, 'field1': '30.00', 'field2': '64.00'}, {'created_at': '2019-07-24T08:42:34Z', 'entry_id': 100, 'field1': '30.00', 'field2': '64.00'}, {'created_at': '2019-07-24T08:43:01Z', 'entry_id': 101, 'field1': '30.00', 'field2': '64.00'}, {'created_at': '2019-07-24T08:43:27Z', 'entry_id': 102, 'field1': '30.00', 'field2': '64.00'}, {'created_at': '2019-07-24T08:43:52Z', 'entry_id': 103, 'field1': '30.00', 'field2': '64.00'}, {'created_at': '2019-07-24T08:44:18Z', 'entry_id': 104, 'field1': '30.00', 'field2': '64.00'}, {'created_at': '2019-07-24T08:44:44Z', 'entry_id': 105, 'field1': '30.00', 'field2': '64.00'}, {'created_at': '2019-07-24T08:45:10Z', 'entry_id': 106, 'field1': '30.00', 'field2': '64.00'}, {'created_at': '2019-07-24T08:45:36Z', 'entry_id': 107, 'field1': '30.00', 'field2': '64.00'}, {'created_at': '2019-07-24T08:46:03Z', 'entry_id': 108, 'field1': '30.00', 'field2': '64.00'}, {'created_at': '2019-07-24T08:46:30Z', 'entry_id': 109, 'field1': '30.00', 'field2': '64.00'}, {'created_at': '2019-07-24T08:46:57Z', 'entry_id': 110, 'field1': '30.00', 'field2': '64.00'}, {'created_at': '2019-07-24T08:47:24Z', 'entry_id': 111, 'field1': '30.00', 'field2': '64.00'}, {'created_at': '2019-07-24T08:47:50Z', 'entry_id': 112, 'field1': '30.00', 'field2': '64.00'}, {'created_at': '2019-07-24T08:48:16Z', 'entry_id': 113, 'field1': '30.00', 'field2': '64.00'}, {'created_at': '2019-07-24T08:48:43Z', 'entry_id': 114, 'field1': '30.00', 'field2': '64.00'}, {'created_at': '2019-07-24T08:49:10Z', 'entry_id': 115, 'field1': '30.00', 'field2': '64.00'}, {'created_at': '2019-07-24T08:49:36Z', 'entry_id': 116, 'field1': '30.00', 'field2': '64.00'}, {'created_at': '2019-07-24T08:50:02Z', 'entry_id': 117, 'field1': '30.00', 'field2': '64.00'}, {'created_at': '2019-07-24T08:50:29Z', 'entry_id': 118, 'field1': '30.00', 'field2': '64.00'}, {'created_at': '2019-07-24T08:50:55Z', 'entry_id': 119, 'field1': '30.00', 'field2': '64.00'}, {'created_at': '2019-07-24T08:51:20Z', 'entry_id': 120, 'field1': '30.00', 'field2': '64.00'}, {'created_at': '2019-07-24T08:51:47Z', 'entry_id': 121, 'field1': '30.00', 'field2': '64.00'}, {'created_at': '2019-07-24T08:52:13Z', 'entry_id': 122, 'field1': '30.00', 'field2': '64.00'}, {'created_at': '2019-07-24T08:52:40Z', 'entry_id': 123, 'field1': '30.00', 'field2': '64.00'}, {'created_at': '2019-07-24T08:53:06Z', 'entry_id': 124, 'field1': '30.00', 'field2': '64.00'}, {'created_at': '2019-07-24T08:53:56Z', 'entry_id': 125, 'field1': '30.00', 'field2': '64.00'}, {'created_at': '2019-07-24T08:59:54Z', 'entry_id': 126, 'field1': '30.00', 'field2': '64.00'}, {'created_at': '2019-07-24T09:00:20Z', 'entry_id': 127, 'field1': '30.00', 'field2': '63.00'}, {'created_at': '2019-07-24T09:00:47Z', 'entry_id': 128, 'field1': '30.00', 'field2': '63.00'}, {'created_at': '2019-07-24T09:01:12Z', 'entry_id': 129, 'field1': '29.00', 'field2': '63.00'}, {'created_at': '2019-07-24T09:01:39Z', 'entry_id': 130, 'field1': '29.00', 'field2': '64.00'}, {'created_at': '2019-07-24T09:02:05Z', 'entry_id': 131, 'field1': '29.00', 'field2': '64.00'}, {'created_at': '2019-07-24T09:02:31Z', 'entry_id': 132, 'field1': '29.00', 'field2': '64.00'}, {'created_at': '2019-07-24T09:02:57Z', 'entry_id': 133, 'field1': '29.00', 'field2': '64.00'}, {'created_at': '2019-07-24T09:03:23Z', 'entry_id': 134, 'field1': '29.00', 'field2': '64.00'}, {'created_at': '2019-07-24T09:03:49Z', 'entry_id': 135, 'field1': '29.00', 'field2': '64.00'}, {'created_at': '2019-07-24T09:04:16Z', 'entry_id': 136, 'field1': '29.00', 'field2': '64.00'}, {'created_at': '2019-07-24T09:04:43Z', 'entry_id': 137, 'field1': '30.00', 'field2': '63.00'}, {'created_at': '2019-07-24T09:05:09Z', 'entry_id': 138, 'field1': '30.00', 'field2': '63.00'}, {'created_at': '2019-07-24T09:05:35Z', 'entry_id': 139, 'field1': '29.00', 'field2': '63.00'}, {'created_at': '2019-07-24T09:06:01Z', 'entry_id': 140, 'field1': '29.00', 'field2': '63.00'}, {'created_at': '2019-07-24T09:06:27Z', 'entry_id': 141, 'field1': '29.00', 'field2': '63.00'}, {'created_at': '2019-07-24T09:06:53Z', 'entry_id': 142, 'field1': '29.00', 'field2': '63.00'}, {'created_at': '2019-07-24T09:07:20Z', 'entry_id': 143, 'field1': '29.00', 'field2': '63.00'}, {'created_at': '2019-07-24T09:07:46Z', 'entry_id': 144, 'field1': '29.00', 'field2': '63.00'}, {'created_at': '2019-07-24T09:08:13Z', 'entry_id': 145, 'field1': '29.00', 'field2': '63.00'}, {'created_at': '2019-07-24T09:08:39Z', 'entry_id': 146, 'field1': '29.00', 'field2': '63.00'}, {'created_at': '2019-07-24T09:09:05Z', 'entry_id': 147, 'field1': '29.00', 'field2': '63.00'}, {'created_at': '2019-07-24T09:09:31Z', 'entry_id': 148, 'field1': '29.00', 'field2': '63.00'}, {'created_at': '2019-07-24T09:09:57Z', 'entry_id': 149, 'field1': '29.00', 'field2': '63.00'}, {'created_at': '2019-07-24T09:10:23Z', 'entry_id': 150, 'field1': '29.00', 'field2': '63.00'}, {'created_at': '2019-07-24T09:10:49Z', 'entry_id': 151, 'field1': '29.00', 'field2': '63.00'}, {'created_at': '2019-07-24T09:11:15Z', 'entry_id': 152, 'field1': '29.00', 'field2': '63.00'}, {'created_at': '2019-07-24T09:11:42Z', 'entry_id': 153, 'field1': '29.00', 'field2': '63.00'}, {'created_at': '2019-07-24T09:12:08Z', 'entry_id': 154, 'field1': '29.00', 'field2': '63.00'}, {'created_at': '2019-07-24T09:12:34Z', 'entry_id': 155, 'field1': '29.00', 'field2': '63.00'}, {'created_at': '2019-07-24T09:13:00Z', 'entry_id': 156, 'field1': '29.00', 'field2': '63.00'}, {'created_at': '2019-07-24T09:13:27Z', 'entry_id': 157, 'field1': '29.00', 'field2': '64.00'}, {'created_at': '2019-07-24T09:13:53Z', 'entry_id': 158, 'field1': '29.00', 'field2': '63.00'}, {'created_at': '2019-07-24T09:14:19Z', 'entry_id': 159, 'field1': '29.00', 'field2': '63.00'}, {'created_at': '2019-07-24T09:14:45Z', 'entry_id': 160, 'field1': '29.00', 'field2': '63.00'}]}\n"
     ]
    }
   ],
   "source": [
    "print(mydata)"
   ]
  },
  {
   "cell_type": "code",
   "execution_count": 29,
   "metadata": {},
   "outputs": [
    {
     "data": {
      "text/plain": [
       "{'id': 812711,\n",
       " 'name': 'Monitoring Environment',\n",
       " 'latitude': '0.0',\n",
       " 'longitude': '0.0',\n",
       " 'field1': 'Temperature',\n",
       " 'field2': 'Humidity',\n",
       " 'created_at': '2019-06-29T08:23:42Z',\n",
       " 'updated_at': '2019-06-29T08:23:42Z',\n",
       " 'last_entry_id': 160}"
      ]
     },
     "execution_count": 29,
     "metadata": {},
     "output_type": "execute_result"
    }
   ],
   "source": [
    "mydata[\"channel\"]"
   ]
  },
  {
   "cell_type": "code",
   "execution_count": 30,
   "metadata": {},
   "outputs": [
    {
     "data": {
      "text/plain": [
       "812711"
      ]
     },
     "execution_count": 30,
     "metadata": {},
     "output_type": "execute_result"
    }
   ],
   "source": [
    "mydata[\"channel\"][\"id\"]"
   ]
  },
  {
   "cell_type": "code",
   "execution_count": 31,
   "metadata": {},
   "outputs": [
    {
     "data": {
      "text/plain": [
       "'Temperature'"
      ]
     },
     "execution_count": 31,
     "metadata": {},
     "output_type": "execute_result"
    }
   ],
   "source": [
    "mydata[\"channel\"][\"field1\"]"
   ]
  },
  {
   "cell_type": "code",
   "execution_count": 32,
   "metadata": {},
   "outputs": [
    {
     "data": {
      "text/plain": [
       "'2019-07-24T08:25:07Z'"
      ]
     },
     "execution_count": 32,
     "metadata": {},
     "output_type": "execute_result"
    }
   ],
   "source": [
    "mydata[\"feeds\"][0][\"created_at\"]"
   ]
  },
  {
   "cell_type": "markdown",
   "metadata": {},
   "source": [
    "The minimum and maximum values of various attributes of is calculated."
   ]
  },
  {
   "cell_type": "code",
   "execution_count": 33,
   "metadata": {},
   "outputs": [
    {
     "data": {
      "text/plain": [
       "61"
      ]
     },
     "execution_count": 33,
     "metadata": {},
     "output_type": "execute_result"
    }
   ],
   "source": [
    "min(mydata[\"feeds\"][x][\"entry_id\"] for x in range(len(mydata[\"feeds\"])))"
   ]
  },
  {
   "cell_type": "code",
   "execution_count": 34,
   "metadata": {},
   "outputs": [
    {
     "data": {
      "text/plain": [
       "160"
      ]
     },
     "execution_count": 34,
     "metadata": {},
     "output_type": "execute_result"
    }
   ],
   "source": [
    "max(mydata[\"feeds\"][x][\"entry_id\"] for x in range(len(mydata[\"feeds\"])))"
   ]
  },
  {
   "cell_type": "code",
   "execution_count": 35,
   "metadata": {},
   "outputs": [
    {
     "data": {
      "text/plain": [
       "'29.00'"
      ]
     },
     "execution_count": 35,
     "metadata": {},
     "output_type": "execute_result"
    }
   ],
   "source": [
    "min(mydata[\"feeds\"][x][\"field1\"] for x in range(len(mydata[\"feeds\"])))"
   ]
  },
  {
   "cell_type": "code",
   "execution_count": 36,
   "metadata": {},
   "outputs": [],
   "source": [
    "new = pd.DataFrame(mydata['feeds'])"
   ]
  },
  {
   "cell_type": "code",
   "execution_count": 37,
   "metadata": {},
   "outputs": [
    {
     "name": "stdout",
     "output_type": "stream",
     "text": [
      "              created_at  entry_id field1 field2\n",
      "0   2019-07-24T08:25:07Z        61  30.00  65.00\n",
      "1   2019-07-24T08:25:33Z        62  30.00  65.00\n",
      "2   2019-07-24T08:25:59Z        63  30.00  65.00\n",
      "3   2019-07-24T08:26:25Z        64  30.00  65.00\n",
      "4   2019-07-24T08:26:51Z        65  30.00  64.00\n",
      "5   2019-07-24T08:27:17Z        66  30.00  64.00\n",
      "6   2019-07-24T08:27:43Z        67  30.00  64.00\n",
      "7   2019-07-24T08:28:10Z        68  30.00  64.00\n",
      "8   2019-07-24T08:28:37Z        69  30.00  64.00\n",
      "9   2019-07-24T08:29:03Z        70  30.00  64.00\n",
      "10  2019-07-24T08:29:29Z        71  30.00  64.00\n",
      "11  2019-07-24T08:29:56Z        72  30.00  64.00\n",
      "12  2019-07-24T08:30:22Z        73  30.00  75.00\n",
      "13  2019-07-24T08:30:48Z        74  30.00  68.00\n",
      "14  2019-07-24T08:31:14Z        75  30.00  64.00\n",
      "15  2019-07-24T08:31:40Z        76  30.00  64.00\n",
      "16  2019-07-24T08:32:07Z        77  30.00  64.00\n",
      "17  2019-07-24T08:32:33Z        78  30.00  64.00\n",
      "18  2019-07-24T08:33:00Z        79  30.00  64.00\n",
      "19  2019-07-24T08:33:26Z        80  30.00  64.00\n",
      "20  2019-07-24T08:33:52Z        81  30.00  64.00\n",
      "21  2019-07-24T08:34:42Z        82  30.00  64.00\n",
      "22  2019-07-24T08:35:09Z        83  30.00  64.00\n",
      "23  2019-07-24T08:35:35Z        84  30.00  64.00\n",
      "24  2019-07-24T08:36:01Z        85  30.00  64.00\n",
      "25  2019-07-24T08:36:27Z        86  30.00  64.00\n",
      "26  2019-07-24T08:36:54Z        87  30.00  64.00\n",
      "27  2019-07-24T08:37:20Z        88  30.00  64.00\n",
      "28  2019-07-24T08:37:47Z        89  30.00  64.00\n",
      "29  2019-07-24T08:38:13Z        90  30.00  64.00\n",
      "..                   ...       ...    ...    ...\n",
      "70  2019-07-24T09:02:05Z       131  29.00  64.00\n",
      "71  2019-07-24T09:02:31Z       132  29.00  64.00\n",
      "72  2019-07-24T09:02:57Z       133  29.00  64.00\n",
      "73  2019-07-24T09:03:23Z       134  29.00  64.00\n",
      "74  2019-07-24T09:03:49Z       135  29.00  64.00\n",
      "75  2019-07-24T09:04:16Z       136  29.00  64.00\n",
      "76  2019-07-24T09:04:43Z       137  30.00  63.00\n",
      "77  2019-07-24T09:05:09Z       138  30.00  63.00\n",
      "78  2019-07-24T09:05:35Z       139  29.00  63.00\n",
      "79  2019-07-24T09:06:01Z       140  29.00  63.00\n",
      "80  2019-07-24T09:06:27Z       141  29.00  63.00\n",
      "81  2019-07-24T09:06:53Z       142  29.00  63.00\n",
      "82  2019-07-24T09:07:20Z       143  29.00  63.00\n",
      "83  2019-07-24T09:07:46Z       144  29.00  63.00\n",
      "84  2019-07-24T09:08:13Z       145  29.00  63.00\n",
      "85  2019-07-24T09:08:39Z       146  29.00  63.00\n",
      "86  2019-07-24T09:09:05Z       147  29.00  63.00\n",
      "87  2019-07-24T09:09:31Z       148  29.00  63.00\n",
      "88  2019-07-24T09:09:57Z       149  29.00  63.00\n",
      "89  2019-07-24T09:10:23Z       150  29.00  63.00\n",
      "90  2019-07-24T09:10:49Z       151  29.00  63.00\n",
      "91  2019-07-24T09:11:15Z       152  29.00  63.00\n",
      "92  2019-07-24T09:11:42Z       153  29.00  63.00\n",
      "93  2019-07-24T09:12:08Z       154  29.00  63.00\n",
      "94  2019-07-24T09:12:34Z       155  29.00  63.00\n",
      "95  2019-07-24T09:13:00Z       156  29.00  63.00\n",
      "96  2019-07-24T09:13:27Z       157  29.00  64.00\n",
      "97  2019-07-24T09:13:53Z       158  29.00  63.00\n",
      "98  2019-07-24T09:14:19Z       159  29.00  63.00\n",
      "99  2019-07-24T09:14:45Z       160  29.00  63.00\n",
      "\n",
      "[100 rows x 4 columns]\n"
     ]
    }
   ],
   "source": [
    "print(new)"
   ]
  },
  {
   "cell_type": "code",
   "execution_count": 38,
   "metadata": {
    "scrolled": true
   },
   "outputs": [
    {
     "data": {
      "text/html": [
       "<div>\n",
       "<style scoped>\n",
       "    .dataframe tbody tr th:only-of-type {\n",
       "        vertical-align: middle;\n",
       "    }\n",
       "\n",
       "    .dataframe tbody tr th {\n",
       "        vertical-align: top;\n",
       "    }\n",
       "\n",
       "    .dataframe thead th {\n",
       "        text-align: right;\n",
       "    }\n",
       "</style>\n",
       "<table border=\"1\" class=\"dataframe\">\n",
       "  <thead>\n",
       "    <tr style=\"text-align: right;\">\n",
       "      <th></th>\n",
       "      <th>created_at</th>\n",
       "      <th>entry_id</th>\n",
       "      <th>field1</th>\n",
       "      <th>field2</th>\n",
       "    </tr>\n",
       "  </thead>\n",
       "  <tbody>\n",
       "    <tr>\n",
       "      <th>0</th>\n",
       "      <td>2019-07-24T08:25:07Z</td>\n",
       "      <td>61</td>\n",
       "      <td>30.00</td>\n",
       "      <td>65.00</td>\n",
       "    </tr>\n",
       "    <tr>\n",
       "      <th>1</th>\n",
       "      <td>2019-07-24T08:25:33Z</td>\n",
       "      <td>62</td>\n",
       "      <td>30.00</td>\n",
       "      <td>65.00</td>\n",
       "    </tr>\n",
       "    <tr>\n",
       "      <th>2</th>\n",
       "      <td>2019-07-24T08:25:59Z</td>\n",
       "      <td>63</td>\n",
       "      <td>30.00</td>\n",
       "      <td>65.00</td>\n",
       "    </tr>\n",
       "    <tr>\n",
       "      <th>3</th>\n",
       "      <td>2019-07-24T08:26:25Z</td>\n",
       "      <td>64</td>\n",
       "      <td>30.00</td>\n",
       "      <td>65.00</td>\n",
       "    </tr>\n",
       "    <tr>\n",
       "      <th>4</th>\n",
       "      <td>2019-07-24T08:26:51Z</td>\n",
       "      <td>65</td>\n",
       "      <td>30.00</td>\n",
       "      <td>64.00</td>\n",
       "    </tr>\n",
       "  </tbody>\n",
       "</table>\n",
       "</div>"
      ],
      "text/plain": [
       "             created_at  entry_id field1 field2\n",
       "0  2019-07-24T08:25:07Z        61  30.00  65.00\n",
       "1  2019-07-24T08:25:33Z        62  30.00  65.00\n",
       "2  2019-07-24T08:25:59Z        63  30.00  65.00\n",
       "3  2019-07-24T08:26:25Z        64  30.00  65.00\n",
       "4  2019-07-24T08:26:51Z        65  30.00  64.00"
      ]
     },
     "execution_count": 38,
     "metadata": {},
     "output_type": "execute_result"
    }
   ],
   "source": [
    "new.head()"
   ]
  },
  {
   "cell_type": "markdown",
   "metadata": {},
   "source": [
    "Also the graphical relationship can be shown of the values to analyse the behaviour of the values as the increase or decrease."
   ]
  },
  {
   "cell_type": "code",
   "execution_count": 39,
   "metadata": {},
   "outputs": [
    {
     "data": {
      "text/plain": [
       "Text(0, 0.5, 'humidity')"
      ]
     },
     "execution_count": 39,
     "metadata": {},
     "output_type": "execute_result"
    },
    {
     "data": {
      "image/png": "[encoded data removed]",
      "text/plain": [
       "<Figure size 432x288 with 1 Axes>"
      ]
     },
     "metadata": {
      "needs_background": "light"
     },
     "output_type": "display_data"
    }
   ],
   "source": [
    "plt.plot(new['entry_id'], new['field2'])\n",
    "plt.xlabel('entry_id')\n",
    "plt.ylabel('humidity')"
   ]
  },
  {
   "cell_type": "code",
   "execution_count": 40,
   "metadata": {},
   "outputs": [
    {
     "data": {
      "text/plain": [
       "Text(0, 0.5, 'humidity')"
      ]
     },
     "execution_count": 40,
     "metadata": {},
     "output_type": "execute_result"
    },
    {
     "data": {
      "image/png": "[encoded data removed]",
      "text/plain": [
       "<Figure size 432x288 with 1 Axes>"
      ]
     },
     "metadata": {
      "needs_background": "light"
     },
     "output_type": "display_data"
    }
   ],
   "source": [
    "plt.bar(new['field1'], new['field2'])\n",
    "plt.xlabel(\"temperature\")\n",
    "plt.ylabel(\"humidity\")"
   ]
  },
  {
   "cell_type": "code",
   "execution_count": 42,
   "metadata": {},
   "outputs": [
    {
     "data": {
      "text/plain": [
       "Text(0, 0.5, 'humidity')"
      ]
     },
     "execution_count": 42,
     "metadata": {},
     "output_type": "execute_result"
    },
    {
     "data": {
      "image/png": "[encoded data removed]",
      "text/plain": [
       "<Figure size 432x288 with 1 Axes>"
      ]
     },
     "metadata": {
      "needs_background": "light"
     },
     "output_type": "display_data"
    }
   ],
   "source": [
    "plt.scatter(new['field1'], new['field2'])\n",
    "plt.xlabel(\"temperature\")\n",
    "plt.ylabel(\"humidity\")"
   ]
  },
  {
   "cell_type": "code",
   "execution_count": null,
   "metadata": {},
   "outputs": [],
   "source": []
  }
 ],
 "metadata": {
  "kernelspec": {
   "display_name": "Python 3",
   "language": "python",
   "name": "python3"
  },
  "language_info": {
   "codemirror_mode": {
    "name": "ipython",
    "version": 3
   },
   "file_extension": ".py",
   "mimetype": "text/x-python",
   "name": "python",
   "nbconvert_exporter": "python",
   "pygments_lexer": "ipython3",
   "version": "3.7.3"
  }
 },
 "nbformat": 4,
 "nbformat_minor": 2
}
